{
 "cells": [
  {
   "cell_type": "markdown",
   "id": "a7b69bd0",
   "metadata": {},
   "source": [
    "# Session 4"
   ]
  },
  {
   "cell_type": "code",
   "execution_count": 11,
   "id": "3db42dd7-fa08-4fb6-b8dd-afb05aca5fb3",
   "metadata": {},
   "outputs": [],
   "source": [
    "import numpy as np\n",
    "import matplotlib.pyplot as plt"
   ]
  },
  {
   "cell_type": "code",
   "execution_count": 5,
   "id": "240982ce-70e2-4407-ae81-889485fb25e5",
   "metadata": {},
   "outputs": [
    {
     "data": {
      "text/plain": [
       "array([[ 1, -3],\n",
       "       [ 2,  2],\n",
       "       [ 1,  2],\n",
       "       [ 2,  0],\n",
       "       [ 2,  1],\n",
       "       [ 1,  1]])"
      ]
     },
     "execution_count": 5,
     "metadata": {},
     "output_type": "execute_result"
    }
   ],
   "source": [
    "points = np.array([[1,-3], \n",
    "                  [2,2],\n",
    "                  [1,2],\n",
    "                  [2,0],\n",
    "                  [2,1],\n",
    "                  [1,1]])\n",
    "points"
   ]
  },
  {
   "cell_type": "code",
   "execution_count": null,
   "id": "a03817a6",
   "metadata": {},
   "outputs": [],
   "source": []
  },
  {
   "cell_type": "code",
   "execution_count": 8,
   "id": "d669ad0d",
   "metadata": {},
   "outputs": [],
   "source": [
    "def convert_points(points):\n",
    "    \"\"\"\n",
    "    Map points to another points\n",
    "\n",
    "    INPUT:\n",
    "    --------\n",
    "    points:  numpy array, a set of points \n",
    "\n",
    "    OUTPUT:\n",
    "    --------\n",
    "    converted_points:  numpy array of mapped points\n",
    "    \"\"\"\n",
    "    converted_points = []\n",
    "    for p in points:\n",
    "        converted_points.append([p[0] ** 2 + p[1] **2,  p[0] - p[1]])\n",
    "\n",
    "    return np.array(converted_points)"
   ]
  },
  {
   "cell_type": "code",
   "execution_count": 10,
   "id": "f2b42840",
   "metadata": {},
   "outputs": [
    {
     "data": {
      "text/plain": [
       "array([[10,  4],\n",
       "       [ 8,  0],\n",
       "       [ 5, -1],\n",
       "       [ 4,  2],\n",
       "       [ 5,  1],\n",
       "       [ 2,  0]])"
      ]
     },
     "execution_count": 10,
     "metadata": {},
     "output_type": "execute_result"
    }
   ],
   "source": [
    "phi = convert_points(points)\n",
    "phi"
   ]
  },
  {
   "cell_type": "markdown",
   "id": "fcbae5df",
   "metadata": {},
   "source": [
    "## Before Conversion"
   ]
  },
  {
   "cell_type": "code",
   "execution_count": 29,
   "id": "edaa9020",
   "metadata": {},
   "outputs": [
    {
     "data": {
      "text/plain": [
       "[]"
      ]
     },
     "execution_count": 29,
     "metadata": {},
     "output_type": "execute_result"
    },
    {
     "data": {
      "image/png": "[encoded data removed]",
      "text/plain": [
       "<Figure size 576x576 with 1 Axes>"
      ]
     },
     "metadata": {
      "needs_background": "light"
     },
     "output_type": "display_data"
    }
   ],
   "source": [
    "fig = plt.figure(figsize=(8,8))\n",
    "## class label = -1, Blue\n",
    "plt.scatter(points[:,0][:3], points[:,1][:3])\n",
    "## class label = +1, Orange\n",
    "plt.scatter(points[:,0][3:], points[:,1][3:])\n",
    "\n",
    "plt.plot(np.linspace(-2, 12, 50), np.zeros(50), 'k' )\n",
    "plt.plot(np.zeros(50), np.linspace(-2, 12, 50), 'k' )\n",
    "\n",
    "plt.plot()"
   ]
  },
  {
   "cell_type": "code",
   "execution_count": 36,
   "id": "a40f4fc9",
   "metadata": {},
   "outputs": [
    {
     "data": {
      "text/plain": [
       "array([ 2, 12,  2, 12, 12,  2])"
      ]
     },
     "execution_count": 36,
     "metadata": {},
     "output_type": "execute_result"
    }
   ],
   "source": [
    "X = points[:,0] **2 + points[:,0] ** 3\n",
    "X"
   ]
  },
  {
   "cell_type": "markdown",
   "id": "9e5c2e69",
   "metadata": {},
   "source": [
    "$$\n",
    "F = x_1^2 + x_2^3\n",
    "$$ "
   ]
  },
  {
   "cell_type": "markdown",
   "id": "f10e92b7",
   "metadata": {},
   "source": [
    "## After Conversion"
   ]
  },
  {
   "cell_type": "code",
   "execution_count": 30,
   "id": "415614ea",
   "metadata": {},
   "outputs": [
    {
     "data": {
      "text/plain": [
       "[]"
      ]
     },
     "execution_count": 30,
     "metadata": {},
     "output_type": "execute_result"
    },
    {
     "data": {
      "image/png": "[encoded data removed]",
      "text/plain": [
       "<Figure size 576x576 with 1 Axes>"
      ]
     },
     "metadata": {
      "needs_background": "light"
     },
     "output_type": "display_data"
    }
   ],
   "source": [
    "fig = plt.figure(figsize=(8,8))\n",
    "## class label = -1, Blue\n",
    "plt.scatter(phi[:,0][:3], phi[:,1][:3])\n",
    "## class label = +1, Orange\n",
    "plt.scatter(phi[:,0][3:], phi[:,1][3:])\n",
    "\n",
    "plt.plot(np.linspace(-2, 12, 50), np.zeros(50), 'k' )\n",
    "plt.plot(np.zeros(50), np.linspace(-2, 12, 50), 'k' )\n",
    "\n",
    "plt.plot()"
   ]
  },
  {
   "cell_type": "markdown",
   "id": "baa35fe8",
   "metadata": {},
   "source": [
    "## Check the some points "
   ]
  },
  {
   "cell_type": "code",
   "execution_count": 40,
   "id": "6b356359",
   "metadata": {},
   "outputs": [
    {
     "data": {
      "text/plain": [
       "array([[0, 0],\n",
       "       [4, 4]])"
      ]
     },
     "execution_count": 40,
     "metadata": {},
     "output_type": "execute_result"
    }
   ],
   "source": [
    "new_points = np.array([\n",
    "                    [0,0],\n",
    "                    [4,4]])\n",
    "new_points"
   ]
  },
  {
   "cell_type": "code",
   "execution_count": 42,
   "id": "c8df670c",
   "metadata": {},
   "outputs": [
    {
     "data": {
      "text/plain": [
       "[<matplotlib.lines.Line2D at 0x7f4a97425a90>]"
      ]
     },
     "execution_count": 42,
     "metadata": {},
     "output_type": "execute_result"
    },
    {
     "data": {
      "image/png": "[encoded data removed]",
      "text/plain": [
       "<Figure size 432x288 with 1 Axes>"
      ]
     },
     "metadata": {
      "needs_background": "light"
     },
     "output_type": "display_data"
    }
   ],
   "source": [
    "plt.scatter(new_points[:,0], new_points[:,1])\n",
    "plt.scatter(-1,-1)\n",
    "plt.plot(np.linspace(-2, 12, 50), np.zeros(50), 'k' )\n",
    "plt.plot(np.zeros(50), np.linspace(-2, 12, 50), 'k' )"
   ]
  }
 ],
 "metadata": {
  "kernelspec": {
   "display_name": "Python 3 (ipykernel)",
   "language": "python",
   "name": "python3"
  },
  "language_info": {
   "codemirror_mode": {
    "name": "ipython",
    "version": 3
   },
   "file_extension": ".py",
   "mimetype": "text/x-python",
   "name": "python",
   "nbconvert_exporter": "python",
   "pygments_lexer": "ipython3",
   "version": "3.8.10"
  }
 },
 "nbformat": 4,
 "nbformat_minor": 5
}
