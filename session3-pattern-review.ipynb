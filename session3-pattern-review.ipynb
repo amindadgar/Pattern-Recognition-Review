{
 "cells": [
  {
   "cell_type": "code",
   "execution_count": 1,
   "id": "3db42dd7-fa08-4fb6-b8dd-afb05aca5fb3",
   "metadata": {},
   "outputs": [],
   "source": [
    "import numpy as np"
   ]
  },
  {
   "cell_type": "code",
   "execution_count": 3,
   "id": "240982ce-70e2-4407-ae81-889485fb25e5",
   "metadata": {},
   "outputs": [
    {
     "data": {
      "text/plain": [
       "matrix([[8, 0],\n",
       "        [0, 0]])"
      ]
     },
     "execution_count": 3,
     "metadata": {},
     "output_type": "execute_result"
    }
   ],
   "source": [
    "sb = np.matrix('8 0; 0 0')\n",
    "sb"
   ]
  },
  {
   "cell_type": "code",
   "execution_count": 13,
   "id": "9c541fba-f293-4f28-94c3-0f37e76b7aae",
   "metadata": {},
   "outputs": [],
   "source": [
    "d1 = np.matrix([1,1]).T\n",
    "d2 = np.matrix([2,1]).T"
   ]
  },
  {
   "cell_type": "code",
   "execution_count": 14,
   "id": "4ff5a850-2ff2-47f0-83bf-1bd99ee3dcf1",
   "metadata": {},
   "outputs": [],
   "source": [
    "mu1 = np.matrix([4,0]).T\n",
    "mu2 = np.matrix([0,0]).T"
   ]
  },
  {
   "cell_type": "code",
   "execution_count": 15,
   "id": "5c4a9a4f-4222-4ce7-aaf8-82776a4f83ae",
   "metadata": {},
   "outputs": [
    {
     "data": {
      "text/plain": [
       "matrix([[18, -2],\n",
       "        [-2,  4]])"
      ]
     },
     "execution_count": 15,
     "metadata": {},
     "output_type": "execute_result"
    }
   ],
   "source": [
    "## class 1\n",
    "sw = np.dot((d1 - mu1), (d1 - mu1).T) + np.dot((d2 - mu1), (d2 - mu1).T)\n",
    "## class 2\n",
    "sw += np.dot((d1 - mu2), (d1 - mu2).T) + np.dot((d2 - mu2), (d2 - mu2).T)\n",
    "sw"
   ]
  },
  {
   "cell_type": "code",
   "execution_count": 16,
   "id": "c832682a-d2e2-421d-90fb-61ebbe0f54a0",
   "metadata": {},
   "outputs": [
    {
     "data": {
      "text/plain": [
       "matrix([[0.47058824, 0.        ],\n",
       "        [0.23529412, 0.        ]])"
      ]
     },
     "execution_count": 16,
     "metadata": {},
     "output_type": "execute_result"
    }
   ],
   "source": [
    "A = np.linalg.inv(sw).dot(sb)\n",
    "A"
   ]
  },
  {
   "cell_type": "code",
   "execution_count": 18,
   "id": "6382f263-ca5a-4d22-883b-3ab9bb143881",
   "metadata": {},
   "outputs": [],
   "source": [
    "eigenvalue, eigenvactoes = np.linalg.eig(A)"
   ]
  },
  {
   "cell_type": "code",
   "execution_count": 20,
   "id": "d7f021c8-01c1-4d37-a7b1-23c4b2beed9c",
   "metadata": {},
   "outputs": [
    {
     "data": {
      "text/plain": [
       "matrix([[0.        , 0.89442719],\n",
       "        [1.        , 0.4472136 ]])"
      ]
     },
     "execution_count": 20,
     "metadata": {},
     "output_type": "execute_result"
    }
   ],
   "source": [
    "eigenvactoes"
   ]
  },
  {
   "cell_type": "code",
   "execution_count": 22,
   "id": "1fc4d0ad-5dbf-41d7-b7eb-89468d7a86d1",
   "metadata": {},
   "outputs": [
    {
     "data": {
      "text/plain": [
       "array([0.        , 0.47058824])"
      ]
     },
     "execution_count": 22,
     "metadata": {},
     "output_type": "execute_result"
    }
   ],
   "source": [
    "eigenvalue"
   ]
  },
  {
   "cell_type": "code",
   "execution_count": 26,
   "id": "46e00591-87cc-4ccb-a66e-d5b0b9ad3664",
   "metadata": {},
   "outputs": [],
   "source": [
    "U = eigenvactoes[:,1]"
   ]
  },
  {
   "cell_type": "code",
   "execution_count": 27,
   "id": "114b7b0b-50b9-48d9-9e1f-38a35da31306",
   "metadata": {},
   "outputs": [
    {
     "data": {
      "text/plain": [
       "matrix([[0.89442719],\n",
       "        [0.4472136 ]])"
      ]
     },
     "execution_count": 27,
     "metadata": {},
     "output_type": "execute_result"
    }
   ],
   "source": [
    "U"
   ]
  },
  {
   "cell_type": "code",
   "execution_count": 33,
   "id": "fe1c4d67-2f13-4c53-99a2-c93949ce18f3",
   "metadata": {},
   "outputs": [
    {
     "data": {
      "text/plain": [
       "matrix([[1.34164079]])"
      ]
     },
     "execution_count": 33,
     "metadata": {},
     "output_type": "execute_result"
    }
   ],
   "source": [
    "## projection\n",
    "U.T.dot(d1)"
   ]
  },
  {
   "cell_type": "code",
   "execution_count": 30,
   "id": "76ebab8f-d903-4605-8630-2a1c341febe6",
   "metadata": {},
   "outputs": [
    {
     "data": {
      "text/plain": [
       "(2, 1)"
      ]
     },
     "execution_count": 30,
     "metadata": {},
     "output_type": "execute_result"
    }
   ],
   "source": [
    "d1.shape"
   ]
  },
  {
   "cell_type": "code",
   "execution_count": 32,
   "id": "fc7e0d74-2718-4a7f-a94e-0359b5064154",
   "metadata": {},
   "outputs": [
    {
     "data": {
      "text/plain": [
       "(1, 2)"
      ]
     },
     "execution_count": 32,
     "metadata": {},
     "output_type": "execute_result"
    }
   ],
   "source": [
    "U.T.shape"
   ]
  }
 ],
 "metadata": {
  "kernelspec": {
   "display_name": "Python 3 (ipykernel)",
   "language": "python",
   "name": "python3"
  },
  "language_info": {
   "codemirror_mode": {
    "name": "ipython",
    "version": 3
   },
   "file_extension": ".py",
   "mimetype": "text/x-python",
   "name": "python",
   "nbconvert_exporter": "python",
   "pygments_lexer": "ipython3",
   "version": "3.8.10"
  }
 },
 "nbformat": 4,
 "nbformat_minor": 5
}
